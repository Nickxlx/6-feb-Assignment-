{
 "cells": [
  {
   "cell_type": "markdown",
   "id": "e18192e8-a246-455d-80ee-94c4e8b421d6",
   "metadata": {},
   "source": [
    "Q1. Create a function which will take a list as an argument and return the product of all the numbers\n",
    "after creating a flat list."
   ]
  },
  {
   "cell_type": "code",
   "execution_count": 57,
   "id": "066e1f0f-a279-4e8a-9479-77e370f140ef",
   "metadata": {},
   "outputs": [
    {
     "name": "stdout",
     "output_type": "stream",
     "text": [
      "[1, 2, 3, 4, 44, 55, 66, 34, 56, 78, 89, 34, 1, 2, 3, 1, 4, 34, 55, 67, 78, 89, 45, 22, 61, 34, 56]\n"
     ]
    }
   ],
   "source": [
    "def flat_list(lst):\n",
    "    l=[]\n",
    "    for i in lst :\n",
    "        # print(i)\n",
    "        if type(i)==int:\n",
    "            l.append(i)\n",
    "        # Insde list | Tuple | set\n",
    "        elif type(i)==list or type(i)==tuple or type(i)==set:\n",
    "            for j in i :\n",
    "                if type(j)==int:\n",
    "                    # print(j,end=\" | \")\n",
    "                    l.append(j)\n",
    "        # Insert Dict\n",
    "        elif type(i)==dict:\n",
    "            # For Key\n",
    "            for j in i.keys():\n",
    "                if type(j)==int:\n",
    "                    l.append(j)\n",
    "            # For Value\n",
    "            for j in i.values():\n",
    "                if type(j)==list or type(j)==tuple:\n",
    "                    for k in j:\n",
    "                        l.append(k)\n",
    "                elif type(j)==int:\n",
    "                    l.append(j)\n",
    "    else :\n",
    "        return l\n",
    "\n",
    "print(flat1(list1))"
   ]
  },
  {
   "cell_type": "code",
   "execution_count": 58,
   "id": "418b509d-84d5-4ccc-a135-240a0f78c4bf",
   "metadata": {},
   "outputs": [
    {
     "name": "stdout",
     "output_type": "stream",
     "text": [
      "4134711838987085478833841242112000\n"
     ]
    }
   ],
   "source": [
    "list1 = [1,2,3,4, [44,55,66, True], False, (34,56,78,89,34), {1,2,3,3,2,1}, {1:34, \"key2\": [55, 67, 78, 89], 4: (45, 22, 61, 34)}, [56, 'data science'], 'Machine Learning']\n",
    "\n",
    "# Multiply all the numbers in the flattened list\n",
    "product = 1\n",
    "for num in (flat_list(list1)):\n",
    "    # if type(num) in  (int, float):\n",
    "    product *= num\n",
    "print( product)"
   ]
  },
  {
   "cell_type": "code",
   "execution_count": null,
   "id": "142fe721-02d8-4f48-96df-722d6ed4b835",
   "metadata": {},
   "outputs": [],
   "source": []
  },
  {
   "cell_type": "markdown",
   "id": "0a53136d-f199-4054-a9d4-806223fa43b2",
   "metadata": {},
   "source": [
    "Q2. Write a python program for encrypting a message sent to you by your friend. The logic of encryption\n",
    "should be such that, for a the output should be z. For b, the output should be y. For c, the output should\n",
    "be x respectively. Also, the whitespace should be replaced with a dollar sign. Keep the punctuation\n",
    "marks unchanged.\n",
    "\n",
    "Input Sentence: I want to become a Data Scientist.\n",
    "Encrypt the above input sentence using the program you just created.\n",
    "Note: Convert the given input sentence into lowercase before encrypting.\n",
    "The final output should be\n",
    "lowercase."
   ]
  },
  {
   "cell_type": "code",
   "execution_count": 79,
   "id": "f29b0073-ee77-4dc2-bd0d-efab2aa3d40d",
   "metadata": {},
   "outputs": [],
   "source": [
    "def encrypt(message):\n",
    "# converting message to lowercase\n",
    "    message = message.lower()\n",
    "    # creating a dictionary for mapping each letter to its corresponding encrypted letter\n",
    "    map_dict = {\n",
    "    'a': 'z',\n",
    "    'b': 'y',\n",
    "    'c': 'x',\n",
    "    'd': 'w',\n",
    "    'e': 'v',\n",
    "    'f': 'u',\n",
    "    'g': 't',\n",
    "    'h': 's',\n",
    "    'i': 'r',\n",
    "    'j': 'q',\n",
    "    'k': 'p',\n",
    "    'l': 'o',\n",
    "    'm': 'n',\n",
    "    'n': 'm',\n",
    "    'o': 'l',\n",
    "    'p': 'k',\n",
    "    'q': 'j',\n",
    "    'r': 'i',\n",
    "    's': 'h',\n",
    "    't': 'g',\n",
    "    'u': 'f',\n",
    "    'v': 'e',\n",
    "    'w': 'd',\n",
    "    'x': 'c',\n",
    "    'y': 'b',\n",
    "    'z': 'a'\n",
    "    }\n",
    "    encrypted_message = \"\"\n",
    "    # iterating through each character of the message and encrypting it accordingly\n",
    "    for char in message:\n",
    "        if char.isalpha():\n",
    "            encrypted_message += map_dict[char]\n",
    "        elif char.isspace():\n",
    "            encrypted_message += \"$\"\n",
    "        else:\n",
    "            encrypted_message += char\n",
    "    return encrypted_message\n"
   ]
  },
  {
   "cell_type": "code",
   "execution_count": 80,
   "id": "971a9ba0-deb3-49d1-985e-950822a9f971",
   "metadata": {},
   "outputs": [
    {
     "name": "stdout",
     "output_type": "stream",
     "text": [
      "Encrypted sentence is --> r$dzmg$gl$yvxlnv$z$wzgz$hxrvmgrhg.\n"
     ]
    }
   ],
   "source": [
    "input_sentence = \"I want to become a Data Scientist.\"\n",
    "encrypted_sentence = encrypt(input_sentence)\n",
    "print(\"Encrypted sentence is -->\", encrypted_sentence)"
   ]
  },
  {
   "cell_type": "code",
   "execution_count": null,
   "id": "48902174-91c9-4fbb-adac-8bd88480ea91",
   "metadata": {},
   "outputs": [],
   "source": []
  }
 ],
 "metadata": {
  "kernelspec": {
   "display_name": "Python 3 (ipykernel)",
   "language": "python",
   "name": "python3"
  },
  "language_info": {
   "codemirror_mode": {
    "name": "ipython",
    "version": 3
   },
   "file_extension": ".py",
   "mimetype": "text/x-python",
   "name": "python",
   "nbconvert_exporter": "python",
   "pygments_lexer": "ipython3",
   "version": "3.10.8"
  }
 },
 "nbformat": 4,
 "nbformat_minor": 5
}
